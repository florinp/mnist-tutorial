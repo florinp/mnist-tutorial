{
 "cells": [
  {
   "cell_type": "code",
   "execution_count": 32,
   "metadata": {
    "collapsed": true
   },
   "outputs": [],
   "source": [
    "from __future__ import division, print_function, absolute_import\n",
    "import urllib2\n",
    "import os\n",
    "\n",
    "import tensorflow as tf\n",
    "import matplotlib.pyplot as plt\n",
    "import numpy as np\n",
    "\n",
    "# Import MNIST data\n",
    "from tensorflow.examples.tutorials.mnist import input_data"
   ]
  },
  {
   "cell_type": "code",
   "execution_count": 33,
   "metadata": {},
   "outputs": [],
   "source": [
    "def download_dataset(url, file_name, directory='data/fashion'):\n",
    "    \n",
    "    print(\"Download\", file_name)\n",
    "    \n",
    "    if not os.path.exists(directory):\n",
    "        os.makedirs(directory)\n",
    "    \n",
    "    response = urllib2.urlopen(url)\n",
    "    file_content = response.read()\n",
    "    with open(os.path.join(directory, file_name), 'wb') as f:\n",
    "        f.write(file_content)"
   ]
  },
  {
   "cell_type": "code",
   "execution_count": 34,
   "metadata": {},
   "outputs": [
    {
     "name": "stdout",
     "output_type": "stream",
     "text": [
      "Download train-images-idx3-ubyte.gz\n",
      "Download train-labels-idx1-ubyte.gz\n",
      "Download t10k-images-idx3-ubyte.gz\n",
      "Download t10k-labels-idx1-ubyte.gz\n"
     ]
    }
   ],
   "source": [
    "download_dataset('http://fashion-mnist.s3-website.eu-central-1.amazonaws.com/train-images-idx3-ubyte.gz',\n",
    "                'train-images-idx3-ubyte.gz')\n",
    "download_dataset('http://fashion-mnist.s3-website.eu-central-1.amazonaws.com/train-labels-idx1-ubyte.gz',\n",
    "                'train-labels-idx1-ubyte.gz')\n",
    "download_dataset('http://fashion-mnist.s3-website.eu-central-1.amazonaws.com/t10k-images-idx3-ubyte.gz',\n",
    "                't10k-images-idx3-ubyte.gz')\n",
    "download_dataset('http://fashion-mnist.s3-website.eu-central-1.amazonaws.com/t10k-labels-idx1-ubyte.gz',\n",
    "                't10k-labels-idx1-ubyte.gz')"
   ]
  },
  {
   "cell_type": "code",
   "execution_count": 35,
   "metadata": {},
   "outputs": [
    {
     "name": "stdout",
     "output_type": "stream",
     "text": [
      "Extracting data/fashion/train-images-idx3-ubyte.gz\n",
      "Extracting data/fashion/train-labels-idx1-ubyte.gz\n",
      "Extracting data/fashion/t10k-images-idx3-ubyte.gz\n",
      "Extracting data/fashion/t10k-labels-idx1-ubyte.gz\n"
     ]
    }
   ],
   "source": [
    "mnist = input_data.read_data_sets(\"data/fashion\")"
   ]
  },
  {
   "cell_type": "code",
   "execution_count": 36,
   "metadata": {
    "collapsed": true
   },
   "outputs": [],
   "source": [
    "labels = {\n",
    "    0: 'T-shirt/top',\n",
    "    1: 'Trouser',\n",
    "    2: 'Pullover',\n",
    "    3: 'Dress',\n",
    "    4: 'Coat',\n",
    "    5: 'Sandal',\n",
    "    6: 'Shirt',\n",
    "    7: 'Sneaker',\n",
    "    8: 'Bag',\n",
    "    9: 'Ankle boot'\n",
    "}"
   ]
  },
  {
   "cell_type": "code",
   "execution_count": 37,
   "metadata": {},
   "outputs": [
    {
     "data": {
      "image/png": "[encoded data removed]",
      "text/plain": [
       "<matplotlib.figure.Figure at 0x7f17ec135450>"
      ]
     },
     "metadata": {},
     "output_type": "display_data"
    },
    {
     "name": "stdout",
     "output_type": "stream",
     "text": [
      "Ankle boot\n"
     ]
    },
    {
     "data": {
      "image/png": "[encoded data removed]",
      "text/plain": [
       "<matplotlib.figure.Figure at 0x7f17f2121f90>"
      ]
     },
     "metadata": {},
     "output_type": "display_data"
    },
    {
     "name": "stdout",
     "output_type": "stream",
     "text": [
      "Pullover\n"
     ]
    },
    {
     "data": {
      "image/png": "[encoded data removed]",
      "text/plain": [
       "<matplotlib.figure.Figure at 0x7f17f2071390>"
      ]
     },
     "metadata": {},
     "output_type": "display_data"
    },
    {
     "name": "stdout",
     "output_type": "stream",
     "text": [
      "Trouser\n"
     ]
    },
    {
     "data": {
      "image/png": "[encoded data removed]",
      "text/plain": [
       "<matplotlib.figure.Figure at 0x7f17ec139c50>"
      ]
     },
     "metadata": {},
     "output_type": "display_data"
    },
    {
     "name": "stdout",
     "output_type": "stream",
     "text": [
      "Trouser\n"
     ]
    }
   ],
   "source": [
    "# Check data\n",
    "n_images = 4\n",
    "test_images = mnist.test.images[:n_images]\n",
    "test_labels = mnist.test.labels[:n_images]\n",
    "\n",
    "# Display\n",
    "for i in range(n_images):\n",
    "    plt.imshow(np.reshape(test_images[i], [28, 28]), cmap='gray')\n",
    "    plt.show()\n",
    "    print(labels[test_labels[i]])"
   ]
  },
  {
   "cell_type": "code",
   "execution_count": 38,
   "metadata": {
    "collapsed": true
   },
   "outputs": [],
   "source": [
    "learning_rate = 0.001\n",
    "num_steps = 2000\n",
    "batch_size = 256\n",
    "\n",
    "num_input = 784\n",
    "num_classes = 10\n",
    "dropout = 0.8"
   ]
  },
  {
   "cell_type": "code",
   "execution_count": 39,
   "metadata": {
    "collapsed": true
   },
   "outputs": [],
   "source": [
    "def conv_net(x_dict, n_classes, dropout, reuse, is_training):\n",
    "    \n",
    "    with tf.variable_scope('ConvNet', reuse=reuse):\n",
    "        x = x_dict['images']\n",
    "        x = tf.reshape(x, shape=[-1, 28, 28, 1])\n",
    "        \n",
    "        conv1 = tf.layers.conv2d(x, 32, 5, activation=tf.nn.relu)\n",
    "        conv1 = tf.layers.max_pooling2d(conv1, 2, 2)\n",
    "        \n",
    "        conv2 = tf.layers.conv2d(conv1, 64, 3, activation=tf.nn.relu)\n",
    "        conv2 = tf.layers.max_pooling2d(conv2, 2, 2)\n",
    "        \n",
    "        fc1 = tf.contrib.layers.flatten(conv2)\n",
    "        fc1 = tf.layers.dense(fc1, 1024)\n",
    "        fc1 = tf.layers.dropout(fc1, rate=dropout, training=is_training)\n",
    "        \n",
    "        out = tf.layers.dense(fc1, n_classes)\n",
    "        \n",
    "    return out"
   ]
  },
  {
   "cell_type": "code",
   "execution_count": 40,
   "metadata": {
    "collapsed": true
   },
   "outputs": [],
   "source": [
    "def model_fn(features, labels, mode):\n",
    "    \n",
    "    logits_train = conv_net(features, num_classes, dropout, reuse=False, is_training=True)\n",
    "    logits_test = conv_net(features, num_classes, dropout, reuse=True, is_training=False)\n",
    "    \n",
    "    pred_classes = tf.argmax(logits_test, axis=1)\n",
    "    pred_probs = tf.nn.softmax(logits_test)\n",
    "    \n",
    "    if mode == tf.estimator.ModeKeys.PREDICT:\n",
    "        return tf.estimator.EstimatorSpec(mode, predictions=pred_classes)\n",
    "    \n",
    "    loss = tf.reduce_mean(tf.nn.sparse_softmax_cross_entropy_with_logits(\n",
    "            logits=logits_train, labels=tf.cast(labels, dtype=tf.int32)))\n",
    "    optimizer = tf.train.AdamOptimizer(learning_rate=learning_rate)\n",
    "    train_opt = optimizer.minimize(loss, global_step=tf.train.get_global_step())\n",
    "    \n",
    "    acc_opt = tf.metrics.accuracy(labels=labels, predictions=pred_classes)\n",
    "    \n",
    "    estim_specs = tf.estimator.EstimatorSpec(\n",
    "      mode=mode,\n",
    "      predictions=pred_classes,\n",
    "      loss=loss,\n",
    "      train_op=train_opt,\n",
    "      eval_metric_ops={'accuracy': acc_opt})\n",
    "    \n",
    "    return estim_specs"
   ]
  },
  {
   "cell_type": "code",
   "execution_count": 41,
   "metadata": {},
   "outputs": [
    {
     "name": "stdout",
     "output_type": "stream",
     "text": [
      "INFO:tensorflow:Using default config.\n",
      "WARNING:tensorflow:Using temporary folder as model directory: /tmp/tmpoYnOMx\n",
      "INFO:tensorflow:Using config: {'_save_checkpoints_secs': 600, '_session_config': None, '_keep_checkpoint_max': 5, '_tf_random_seed': 1, '_keep_checkpoint_every_n_hours': 10000, '_log_step_count_steps': 100, '_save_checkpoints_steps': None, '_model_dir': '/tmp/tmpoYnOMx', '_save_summary_steps': 100}\n"
     ]
    }
   ],
   "source": [
    "model = tf.estimator.Estimator(model_fn)"
   ]
  },
  {
   "cell_type": "code",
   "execution_count": 42,
   "metadata": {},
   "outputs": [
    {
     "name": "stdout",
     "output_type": "stream",
     "text": [
      "INFO:tensorflow:Create CheckpointSaverHook.\n",
      "INFO:tensorflow:Saving checkpoints for 1 into /tmp/tmpoYnOMx/model.ckpt.\n",
      "INFO:tensorflow:loss = 2.3348, step = 1\n",
      "INFO:tensorflow:global_step/sec: 3.7923\n",
      "INFO:tensorflow:loss = 0.454822, step = 101 (26.369 sec)\n",
      "INFO:tensorflow:global_step/sec: 3.80278\n",
      "INFO:tensorflow:loss = 0.437409, step = 201 (26.296 sec)\n",
      "INFO:tensorflow:global_step/sec: 3.75542\n",
      "INFO:tensorflow:loss = 0.384797, step = 301 (26.628 sec)\n",
      "INFO:tensorflow:global_step/sec: 3.64992\n",
      "INFO:tensorflow:loss = 0.302987, step = 401 (27.398 sec)\n",
      "INFO:tensorflow:global_step/sec: 3.14461\n",
      "INFO:tensorflow:loss = 0.325911, step = 501 (31.800 sec)\n",
      "INFO:tensorflow:global_step/sec: 3.75049\n",
      "INFO:tensorflow:loss = 0.255001, step = 601 (26.663 sec)\n",
      "INFO:tensorflow:global_step/sec: 3.80007\n",
      "INFO:tensorflow:loss = 0.313694, step = 701 (26.315 sec)\n",
      "INFO:tensorflow:global_step/sec: 3.78168\n",
      "INFO:tensorflow:loss = 0.383825, step = 801 (26.443 sec)\n",
      "INFO:tensorflow:global_step/sec: 3.7942\n",
      "INFO:tensorflow:loss = 0.28785, step = 901 (26.356 sec)\n",
      "INFO:tensorflow:global_step/sec: 3.77165\n",
      "INFO:tensorflow:loss = 0.249473, step = 1001 (26.513 sec)\n",
      "INFO:tensorflow:global_step/sec: 3.79585\n",
      "INFO:tensorflow:loss = 0.302534, step = 1101 (26.345 sec)\n",
      "INFO:tensorflow:global_step/sec: 3.76749\n",
      "INFO:tensorflow:loss = 0.298931, step = 1201 (26.543 sec)\n",
      "INFO:tensorflow:global_step/sec: 3.78825\n",
      "INFO:tensorflow:loss = 0.258126, step = 1301 (26.397 sec)\n",
      "INFO:tensorflow:global_step/sec: 3.73105\n",
      "INFO:tensorflow:loss = 0.214935, step = 1401 (26.802 sec)\n",
      "INFO:tensorflow:global_step/sec: 3.77276\n",
      "INFO:tensorflow:loss = 0.216052, step = 1501 (26.506 sec)\n",
      "INFO:tensorflow:global_step/sec: 3.71385\n",
      "INFO:tensorflow:loss = 0.213201, step = 1601 (26.926 sec)\n",
      "INFO:tensorflow:global_step/sec: 3.78747\n",
      "INFO:tensorflow:loss = 0.192636, step = 1701 (26.403 sec)\n",
      "INFO:tensorflow:global_step/sec: 3.7639\n",
      "INFO:tensorflow:loss = 0.201397, step = 1801 (26.568 sec)\n",
      "INFO:tensorflow:global_step/sec: 3.77191\n",
      "INFO:tensorflow:loss = 0.226948, step = 1901 (26.512 sec)\n",
      "INFO:tensorflow:Saving checkpoints for 2000 into /tmp/tmpoYnOMx/model.ckpt.\n",
      "INFO:tensorflow:Loss for final step: 0.185714.\n"
     ]
    },
    {
     "data": {
      "text/plain": [
       "<tensorflow.python.estimator.estimator.Estimator at 0x7f17ee8e1b10>"
      ]
     },
     "execution_count": 42,
     "metadata": {},
     "output_type": "execute_result"
    }
   ],
   "source": [
    "input_fn = tf.estimator.inputs.numpy_input_fn(\n",
    "    x={'images': mnist.train.images}, y=mnist.train.labels,\n",
    "    batch_size=batch_size, num_epochs=None, shuffle=True)\n",
    "\n",
    "model.train(input_fn, steps=num_steps)"
   ]
  },
  {
   "cell_type": "code",
   "execution_count": 43,
   "metadata": {},
   "outputs": [
    {
     "name": "stdout",
     "output_type": "stream",
     "text": [
      "INFO:tensorflow:Starting evaluation at 2017-09-30-20:01:17\n",
      "INFO:tensorflow:Restoring parameters from /tmp/tmpoYnOMx/model.ckpt-2000\n",
      "INFO:tensorflow:Finished evaluation at 2017-09-30-20:01:21\n",
      "INFO:tensorflow:Saving dict for global step 2000: accuracy = 0.9038, global_step = 2000, loss = 0.287097\n"
     ]
    },
    {
     "data": {
      "text/plain": [
       "{'accuracy': 0.90380001, 'global_step': 2000, 'loss': 0.28709731}"
      ]
     },
     "execution_count": 43,
     "metadata": {},
     "output_type": "execute_result"
    }
   ],
   "source": [
    "input_fn = tf.estimator.inputs.numpy_input_fn(\n",
    "    x={'images': mnist.test.images}, y=mnist.test.labels,\n",
    "    batch_size=batch_size, shuffle=False)\n",
    "\n",
    "model.evaluate(input_fn)"
   ]
  },
  {
   "cell_type": "code",
   "execution_count": 44,
   "metadata": {},
   "outputs": [
    {
     "name": "stdout",
     "output_type": "stream",
     "text": [
      "INFO:tensorflow:Restoring parameters from /tmp/tmpoYnOMx/model.ckpt-2000\n"
     ]
    },
    {
     "data": {
      "image/png": "[encoded data removed]",
      "text/plain": [
       "<matplotlib.figure.Figure at 0x7f17f1cb2c90>"
      ]
     },
     "metadata": {},
     "output_type": "display_data"
    },
    {
     "name": "stdout",
     "output_type": "stream",
     "text": [
      "Actual:  Ankle boot\n",
      "Prediction: Ankle boot\n"
     ]
    },
    {
     "data": {
      "image/png": "[encoded data removed]",
      "text/plain": [
       "<matplotlib.figure.Figure at 0x7f17ee973250>"
      ]
     },
     "metadata": {},
     "output_type": "display_data"
    },
    {
     "name": "stdout",
     "output_type": "stream",
     "text": [
      "Actual:  Pullover\n",
      "Prediction: Pullover\n"
     ]
    },
    {
     "data": {
      "image/png": "[encoded data removed]",
      "text/plain": [
       "<matplotlib.figure.Figure at 0x7f17f1d5c890>"
      ]
     },
     "metadata": {},
     "output_type": "display_data"
    },
    {
     "name": "stdout",
     "output_type": "stream",
     "text": [
      "Actual:  Trouser\n",
      "Prediction: Trouser\n"
     ]
    },
    {
     "data": {
      "image/png": "[encoded data removed]",
      "text/plain": [
       "<matplotlib.figure.Figure at 0x7f17ee7d6f50>"
      ]
     },
     "metadata": {},
     "output_type": "display_data"
    },
    {
     "name": "stdout",
     "output_type": "stream",
     "text": [
      "Actual:  Trouser\n",
      "Prediction: Trouser\n"
     ]
    }
   ],
   "source": [
    "n_images = 4\n",
    "test_images = mnist.test.images[:n_images]\n",
    "test_labels = mnist.test.labels[:n_images]\n",
    "\n",
    "input_fn = tf.estimator.inputs.numpy_input_fn(\n",
    "    x={'images': test_images}, shuffle=False)\n",
    "\n",
    "preds = list(model.predict(input_fn))\n",
    "\n",
    "# Display\n",
    "for i in range(n_images):\n",
    "    plt.imshow(np.reshape(test_images[i], [28, 28]), cmap='gray')\n",
    "    plt.show()\n",
    "    print(\"Actual: \", labels[test_labels[i]])\n",
    "    print(\"Prediction:\", labels[preds[i]])"
   ]
  },
  {
   "cell_type": "code",
   "execution_count": null,
   "metadata": {
    "collapsed": true
   },
   "outputs": [],
   "source": []
  }
 ],
 "metadata": {
  "kernelspec": {
   "display_name": "Python 2",
   "language": "python",
   "name": "python2"
  },
  "language_info": {
   "codemirror_mode": {
    "name": "ipython",
    "version": 2
   },
   "file_extension": ".py",
   "mimetype": "text/x-python",
   "name": "python",
   "nbconvert_exporter": "python",
   "pygments_lexer": "ipython2",
   "version": "2.7.12"
  }
 },
 "nbformat": 4,
 "nbformat_minor": 2
}
